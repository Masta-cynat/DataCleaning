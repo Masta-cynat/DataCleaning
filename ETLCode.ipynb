{
 "cells": [
  {
   "cell_type": "code",
   "execution_count": 14,
   "id": "5f37dd99-0b4c-4b97-8451-b8b93a4ab6ed",
   "metadata": {
    "scrolled": true
   },
   "outputs": [
    {
     "name": "stderr",
     "output_type": "stream",
     "text": [
      "C:\\Users\\omari\\AppData\\Local\\Temp\\ipykernel_16512\\1583815470.py:7: DtypeWarning: Columns (6) have mixed types. Specify dtype option on import or set low_memory=False.\n",
      "  df = pd.read_csv(\"lifebear.csv\", sep=';', low_memory=True)\n"
     ]
    },
    {
     "name": "stdout",
     "output_type": "stream",
     "text": [
      "CSV file loaded successfully.\n",
      "File saved successfully to C:\\Users\\omari\\OneDrive\\Documents\\Vault\\Test\\Clean_Data.csv\n",
      "File saved successfully to C:\\Users\\omari\\OneDrive\\Documents\\Vault\\Test\\Garbage_Bin.csv\n"
     ]
    }
   ],
   "source": [
    "import pandas as pd\n",
    "import os\n",
    "import sys\n",
    "\n",
    "# Read the initial CSV file with separator modification and low memory usage\n",
    "try:\n",
    "    df = pd.read_csv(\"lifebear.csv\", sep=';', low_memory=True)\n",
    "    if df.empty:\n",
    "        print(\"Warning: The input CSV file is empty.\")\n",
    "    else:\n",
    "        print(\"CSV file loaded successfully.\")\n",
    "except FileNotFoundError:\n",
    "    print(\"Error: The file 'Crypto.csv' was not found.\")\n",
    "    sys.exit(1)\n",
    "except pd.errors.EmptyDataError:\n",
    "    print(\"Error: The file is empty.\")\n",
    "    sys.exit(1)\n",
    "except Exception as e:\n",
    "    print(f\"An error occurred while reading the file: {e}\")\n",
    "    sys.exit(1)\n",
    "\n",
    "# Create a garbage bin DataFrame to collect discarded data\n",
    "garbage_bin = pd.DataFrame()\n",
    "\n",
    "# Example cleaning process: Replace 0 with 'F' and 1 with 'M'\n",
    "df_replacements = df[(df == 0) | (df == 1)].dropna(how='all')  # Collect rows with 0 or 1 before replacing\n",
    "garbage_bin = pd.concat([garbage_bin, df_replacements])  # Append discarded data\n",
    "df = df.replace({0: 'F', 1: 'M'})\n",
    "df.iloc[0, 0] = 1\n",
    "\n",
    "# Drop rows with missing values in specific columns and collect discarded rows\n",
    "df_missing_birthday = df[df['birthday_on'].isna()]  # Collect rows with missing 'birthday_on'\n",
    "df_missing_gender = df[df['gender'].isna()]  # Collect rows with missing 'gender'\n",
    "\n",
    "#garbage_bin = pd.concat([garbage_bin, df_missing_birthday, df_missing_gender])  # Append discarded data\n",
    "#df = df.dropna(subset=['birthday_on', 'gender'])\n",
    "\n",
    "# Rename columns\n",
    "df.rename(columns={'mail_address': 'email', 'birthday_on': 'date_of_birth'}, inplace=True)\n",
    "\n",
    "\n",
    "\n",
    "def save_dataframe_to_csv(df, file_path):\n",
    "    \"\"\"\n",
    "    Saves a pandas DataFrame to a CSV file at the specified file path.\n",
    "    \n",
    "    Parameters:\n",
    "    df (pd.DataFrame): The DataFrame to save.\n",
    "    file_path (str): The file path where the CSV file will be saved.\n",
    "    \"\"\"\n",
    "    try:\n",
    "        sys.setrecursionlimit(10000)  # Increase recursion limit if necessary (use caution)\n",
    "        \n",
    "        if df.empty:\n",
    "            print(\"Warning: The DataFrame is empty. No file will be saved.\")\n",
    "        else:\n",
    "            df.to_csv(file_path, index=False)\n",
    "            print(f\"File saved successfully to {file_path}\")\n",
    "    except RecursionError as rec_err:\n",
    "        print(f\"Recursion error encountered: {rec_err}\")\n",
    "    except Exception as e:\n",
    "        print(f\"An error occurred: {e}\")\n",
    "\n",
    "# Save cleaned DataFrame to a new file\n",
    "cleaned_file_path = r'C:\\Users\\omari\\OneDrive\\Documents\\Vault\\Test\\Clean_Data.csv'\n",
    "save_dataframe_to_csv(df, cleaned_file_path)\n",
    "\n",
    "# Save garbage bin DataFrame to a separate file\n",
    "garbage_bin_file_path = r'C:\\Users\\omari\\OneDrive\\Documents\\Vault\\Test\\Garbage_Bin.csv'\n",
    "save_dataframe_to_csv(garbage_bin, garbage_bin_file_path)\n"
   ]
  },
  {
   "cell_type": "code",
   "execution_count": null,
   "id": "bacbec1f-cbf4-452a-b38f-68c3894326dd",
   "metadata": {},
   "outputs": [],
   "source": []
  }
 ],
 "metadata": {
  "kernelspec": {
   "display_name": "Python 3 (ipykernel)",
   "language": "python",
   "name": "python3"
  },
  "language_info": {
   "codemirror_mode": {
    "name": "ipython",
    "version": 3
   },
   "file_extension": ".py",
   "mimetype": "text/x-python",
   "name": "python",
   "nbconvert_exporter": "python",
   "pygments_lexer": "ipython3",
   "version": "3.12.4"
  }
 },
 "nbformat": 4,
 "nbformat_minor": 5
}
